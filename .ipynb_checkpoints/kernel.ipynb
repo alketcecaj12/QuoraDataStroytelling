{
  "cells": [
    {
      "metadata": {
        "_uuid": "8f2839f25d086af736a60e9eeb907d3b93b6e0e5",
        "_cell_guid": "b1076dfc-b9ad-4769-8c92-a6c4dae69d19",
        "trusted": true
      },
      "cell_type": "markdown",
      "source": "\n    "
    },
    {
      "metadata": {
        "_kg_hide-input": false,
        "_kg_hide-output": true,
        "_uuid": "684fa20c4bf60cd0bce1bb955f0107ec871026b6"
      },
      "cell_type": "markdown",
      "source": "## Asking and answering questions on Quora! \n\n### A story about a Quora user writing productivity and topics of interests. \n\n<p> I have been using Quora since 2015 mainly in its English version. Then in 2016 Quora became a multilingual \n    platform so I started using the Italian version as well.  I enjoyed writing each day, one or two answers about\n    topics where I have professional experitise or simple human experience. In about four years of Quora experience \n    I have been writing more than 1500 answers to questions about programming languages such as Java, Python and R,\n    data science algorithms, data collection and analysis, academic research, cultural aspects of of countries where \n    I have been living in, intercultural communication and geopolitics.  </p>\n\n#### Now, as a data scientist I see the text of my answers as a dataset to analyze. Unfortunately, Quora has no API you can query to obtain the data but I found a way to download my answers through a Chrome plugin. So my Quora answers dataset contains : \n   - the date in which I wrote the corresponding answer, \n   - the questions to which I answerd and \n   - obviously the text of the answer. \n   \n\n#### The questions that I have been asking about this dataset are related to: \n   - the number of questions that I wrote per day\n   - how this number is distributed from a temporal perspective and a statistical perspective. \n\n#### In order to find some trends or patterns I have been asking questions on \n   - what are the most productive days of the week in which I have been writing more answers. For answering to this question I have been aggregating data by day of week.\n   - what are the most productive months of the year, i.e. the months I have been answering more questions. From the analysis of these data different patterns emerge so..\n   - I did a barplot graphics and a boxplot graphics respectively for showing those patterns. \n   - also a time-series plot of my activity on Quora where is shown the number of answers I have been answering per day.\n   - the text of the answers is also interesting so I did a worldcloud graphics in order to show the most frequent words in my answers. Quora also uses those words to show on my profile on what topics I'm writing most.\n   - with a pairwise correlation matrix graphics I show how the most frequent words (extracted in the previous step) are correlated. Unexpectedly two different clusters emerge.  \n   - finally I have divided the Quora answers dataset in three data files (QuoraAnswersPerDay.csv,QuoraAnswersText.txt and QuoraCorrelationMatrixData.csv ) in order to visualize the data better.    \n   "
    },
    {
      "metadata": {
        "_uuid": "31e2e0b620299228729804cc13646ec0759fa85e"
      },
      "cell_type": "markdown",
      "source": "#### I have been using Python (Jupyter Notebook) for the analysis and data visualization. It is the best tool for me!   "
    },
    {
      "metadata": {
        "trusted": true,
        "_uuid": "e3631c7cc0eeb2645e3f66655f4046e0e66de8ef"
      },
      "cell_type": "code",
      "source": "# import the neccessary libraries\nfrom pandas import read_csv\nfrom matplotlib  import pyplot\nfrom pandas import DataFrame\nfrom pandas import Grouper\nfrom pandas import concat\nfrom pandas.plotting import lag_plot\nfrom statsmodels.tsa.seasonal import seasonal_decompose\nfrom pandas.plotting import autocorrelation_plot\nfrom matplotlib.pyplot import figure\nimport matplotlib.pyplot as plt\nimport nltk\nimport matplotlib.pyplot as plt\nfrom nltk.tokenize import RegexpTokenizer\nfrom wordcloud import WordCloud",
      "execution_count": null,
      "outputs": []
    },
    {
      "metadata": {
        "_uuid": "998c2d85e968ca2da7758ae0d777fc60927c32bb"
      },
      "cell_type": "markdown",
      "source": "#### Here is a first summary description of the dataset. There is a max of 25 answers per day (yes, there are some days in which I enjoy to write answers on Quora :-) ) .. and a min of one answer a day. During the overall period I have been writing 3.21 answers per day on average, However the median (or 50% percentile) is equal to 2 answers per day so I would consider that as a more reliable measure. The Mean is a Conditional Mean as I have been writing answers only in 474 days in an 4 years period."
    },
    {
      "metadata": {
        "trusted": true,
        "_uuid": "631dcba29e2a1f1e481f694e5b33d23807a00886",
        "scrolled": true
      },
      "cell_type": "code",
      "source": "series = read_csv('../input/quora-text/QuoraAnswersPerDay.csv', header=0, index_col=0, parse_dates=True,squeeze=True)\nprint(series.describe())",
      "execution_count": null,
      "outputs": []
    },
    {
      "metadata": {
        "_uuid": "3778ba5041e8be17f5c735b1710883c17558d38a"
      },
      "cell_type": "markdown",
      "source": "### Below the histogram of how the number of answers per day is distributed. It means that most days I would write between one and three answers but that is also a substantial amount of days (about 80) in which I have been writing between three and six answers. Finally for about 30 days I have been writing between six and eight answers."
    },
    {
      "metadata": {
        "_cell_guid": "79c7e3d0-c299-4dcb-8224-4455121ee9b0",
        "_uuid": "d629ff2d2480ee46fbb7e2d37f6b5fab8052498a",
        "trusted": true
      },
      "cell_type": "code",
      "source": "plt.figure(figsize=(12,6))\nseries.hist()\npyplot.show()",
      "execution_count": null,
      "outputs": []
    },
    {
      "metadata": {
        "_uuid": "e883d98f1258fe4cd02710ff443516c2d213f8e9"
      },
      "cell_type": "markdown",
      "source": "### ..and here a kernel density plot of how the number of answers per day is distrubuted"
    },
    {
      "metadata": {
        "trusted": true,
        "_uuid": "26f2d0becd1ed241ac739c38950f750fa014e62c"
      },
      "cell_type": "code",
      "source": "plt.figure(figsize=(12,6))\nseries.plot(kind='kde')\npyplot.show() ",
      "execution_count": null,
      "outputs": []
    },
    {
      "metadata": {
        "_uuid": "b7221894cad17709815c3be17fc67f9b6f0268c3"
      },
      "cell_type": "markdown",
      "source": "#### The boxplot graphics below shows the distribution of answers per day for every month of 2016. Exploring the data month by month with the following boxplot diagram,  can be seen how during the first half of the year I'm more active with writing answers while in the second half I write less answers per day.  "
    },
    {
      "metadata": {
        "trusted": true,
        "_uuid": "7a6b3d17bfb25004c8e09cd7e86d688a3032a418"
      },
      "cell_type": "code",
      "source": "one_year_2016 = series['2016']\ngroups = one_year_2016.groupby(Grouper(freq='M'))\nmonths = concat([DataFrame(x[1].values) for x in groups], axis=1)\nmonths = DataFrame(months)\nmonths.columns = range(1,13)\nplt.figure(figsize=(12,6))\nmonths.boxplot()\npyplot.show() ",
      "execution_count": null,
      "outputs": []
    },
    {
      "metadata": {
        "_uuid": "040b247ca4969e920afef4c6cf5ca7501cb5f24d"
      },
      "cell_type": "markdown",
      "source": "#### Here a line graphics of the number of answers per day. for the whole period. A strange pattern that I have noticed is that my whole activity on Quora can be seen as grouped in three periods which are : from 2015-0 to 2015-08, from 2016-02 to 2016-08 and 2017-02 to 2017-8 ... there isn't much data yet for 2018 o nothing can be said for it. "
    },
    {
      "metadata": {
        "trusted": true,
        "_uuid": "8c388a367340a215c092fc77abc0b2432f5d5633"
      },
      "cell_type": "code",
      "source": "plt.figure(figsize=(16,7))\nseries.plot()\nplt.show()     ",
      "execution_count": null,
      "outputs": []
    },
    {
      "metadata": {
        "_uuid": "703f16ebed7a6d25ab893821b3451c6c7e9cb96d"
      },
      "cell_type": "markdown",
      "source": "#### Here I have aggregated the number of answers per month and visualized the data with a simple barchart graohics where the high is the number of answers writen per month and the labels are relative to the months considered during the overall period from October 2014 to May 2018. "
    },
    {
      "metadata": {
        "trusted": true,
        "_uuid": "d98c8f54380e62c03d6f108c0403a795116eed4b"
      },
      "cell_type": "code",
      "source": "import pandas as pd\nimport numpy as np\n\ndtf = pd.read_csv('../input/quora-text/NumberOfAnswersPerMonth.csv')\nnrAnswers = dtf['nrAnswers'].tolist()\n\nbars2 = ('2014-10-31','2014-11-30','2014-12-31','2015-01-31','2015-02-28','2015-03-31','2015-04-30','2015-05-31',\n'2015-06-30','2015-07-31','2015-08-31','2015-09-30','2015-10-31','2015-11-30',\n'2015-12-31','2016-01-31','2016-02-29','2016-03-31','2016-04-30','2016-05-31',\n'2016-06-30','2016-07-31','2016-08-31','2016-09-30','2016-10-31','2016-11-30','2016-12-31','2017-01-31','2017-02-28',\n'2017-03-31','2017-04-30','2017-05-31','2017-06-30','2017-07-31','2017-08-31','2017-09-30','2017-10-31','2017-11-30',\n'2017-12-31','2018-01-31','2018-02-28','2018-03-31','2018-04-30','2018-05-31')\nplt.figure(figsize=(16,7))\ny_pos = np.arange(len(bars2))\n\n# Create bars\nplt.bar(y_pos, nrAnswers)\nplt.xticks(rotation='vertical')\n# Create names on the x-axis\nplt.xticks(y_pos, bars2)\n\n# Show graphic\nplt.show()",
      "execution_count": null,
      "outputs": []
    },
    {
      "metadata": {
        "_uuid": "30907271727cd4a5f0e0351d9435bf3ede070238"
      },
      "cell_type": "markdown",
      "source": "#### # Which days of the week I have been more productive ? Given the date I could find the day of week (Monday Tuesadya ..), and count the number of answers given in a certain day. Below, in the barchart graphics is given the number of answers writen per week day. The days are labeled as 1 = Monday up to 7 = Sunday. In particular the days 2,3 and 4 which correspond to Tuesday, Wednesday and Thursay are the days in which I have been the most productive. "
    },
    {
      "metadata": {
        "trusted": true,
        "_uuid": "267212e5e6975650ebd8ccef1cdf900001cc2dac"
      },
      "cell_type": "code",
      "source": "height = [281, 279, 277, 207, 198, 164, 119]\ndays = ('3', '4', '2', '1', '5', '6', '7')\nplt.figure(figsize=(16,7))\ny_pos = np.arange(len(days))\n\n# Create bars\nplt.bar(y_pos, height)\nplt.xticks(rotation='vertical')\n# Create names on the x-axis\nplt.xticks(y_pos, days)\n# Show graphic\nplt.show()",
      "execution_count": null,
      "outputs": []
    },
    {
      "metadata": {
        "_uuid": "a300b4c172ed13c9c4154833638c9925bb35621a"
      },
      "cell_type": "markdown",
      "source": "#### As for the text of my answers I did a simple word-cloud graphics in order to represent the most frequent words that occour in the text of my answers. The more frequent is a word the largest it will appear in the graphics. As you can see, the most frequent words in my graphics are : \"data\", \"algorithms\", \"java\", \"r\", \"machine\", \"learning\", \"programming\", \"blockchain\" etc.. There are also words which are typical of a person's writing style such as \"different\", \"also\",\"many\", \"good\" etc..\n"
    },
    {
      "metadata": {
        "trusted": true,
        "_uuid": "40d5d86a85a8202d6fa796de4a57965af46a96a7"
      },
      "cell_type": "code",
      "source": " tokenizer = nltk.data.load('tokenizers/punkt/english.pickle')\nfp = open(\"../input/quoracorrelationmatrix/QuoraAnswersText.txt\")\ndata = fp.read()\n\ntokenizer = RegexpTokenizer('\\w+')\ntokens = tokenizer.tokenize(data)\n\nwords = []\n\n# Loop through list tokens and make lower case\nfor word in tokens:\n    words.append(word.lower())\n\n# and print them\nsw = nltk.corpus.stopwords.words('english')\n\n# Initialize new list that will contain text without stop words\nwords_ns = []\n\n# Add to words_ns all words that are in words but not in sw\nfor word in words:\n    if word not in sw:\n        if word != 'one' and word != 'would' and word != 'also' and word != 'find' and word != 'good' and word != 'like':\n           words_ns.append(word)\n\n# Create freq dist and plot\nfreqdist1 = nltk.FreqDist(words_ns)\n\n# here I add a word cloud graphics which shows the most common words\n\nwcloud = WordCloud().generate_from_frequencies(freqdist1)\nplt.figure(figsize=(16,7))\nplt.imshow(wcloud, interpolation='bilinear')\nplt.axis(\"off\")\n(-0.5, 399.5, 199.5, -0.5)\nplt.show() ",
      "execution_count": null,
      "outputs": []
    },
    {
      "metadata": {
        "trusted": true,
        "_uuid": "7fcce5b98f688ce5b345b2a8b618bb2aa753fe92"
      },
      "cell_type": "markdown",
      "source": "####  Here I show a pairwise correlation matrix for the top words that compare in my questions. So I built a matrix with 0 and 1 according to the fact that one of the following words was contained in the answers or not . The top words for the pairwise correlation matrix are the following : 'r','java','programming','data','learn','development','javascript','algorithms','machine','blockchain','culture', 'albania','greece','italy','denmark'"
    },
    {
      "metadata": {
        "trusted": true,
        "_uuid": "0d0efc922b4eea293bc9206c3f959e870693e3ad"
      },
      "cell_type": "code",
      "source": "data = pd.read_csv('../input/quoracorrelationmatrix/QuoraTopWordsForCorrMatrixGraphics.csv')\n# my top 15 words correlation graphics \nnames = ['r','java','programming','data','learn','development','javascript','algorithms','machine','blockchain','culture','albania','greece','italy','denmark']\ncorrelations = data.corr()\n# plot correlation matrix\nfig = pyplot.figure(figsize=(18,9))\nax = fig.add_subplot(111)\ncax = ax.matshow(correlations, vmin=-1, vmax=1)\n\nfig.colorbar(cax)\nticks = np.arange(0,15,1)\nax.set_xticks(ticks)\nax.set_yticks(ticks)\nax.set_xticklabels(names, rotation='vertical')\nax.set_yticklabels(names)\npyplot.show()",
      "execution_count": null,
      "outputs": []
    },
    {
      "metadata": {
        "_uuid": "f923abb09a13eba9315af7e1182c159f2bba2bc5"
      },
      "cell_type": "markdown",
      "source": "#### So my conclusions are that my activity on Quora shows some patterns which are those of usability and content. \n     *The usability pattern is due to me as a person, the days I have been able to write and the months in wich I have been more active. I wonder if   the majority of Quora users follows the same pattern. \n     *The second conclusion has to do with content and more precisely with my topics of interest as a Quora writer. For those topics I did a word cloud in order to show in a synthetic way what are the main interests I have and what I write about on Quora."
    },
    {
      "metadata": {
        "_uuid": "bc7779bb9ab1131eae663edc85e4ed65f62ff4da"
      },
      "cell_type": "markdown",
      "source": "#### Oh! I forgot to add my profile on Quora! Here it is :  https://www.quora.com/profile/Alket-Cecaj"
    },
    {
      "metadata": {
        "_uuid": "d23d945b7382ba7d9f4f024481fe9e4c8527c38f"
      },
      "cell_type": "markdown",
      "source": "#### Best AC."
    },
    {
      "metadata": {
        "_uuid": "cc7c35462ef46b473cb0e3ed844196eeb160f202"
      },
      "cell_type": "markdown",
      "source": ""
    }
  ],
  "metadata": {
    "kernelspec": {
      "display_name": "Python 3",
      "language": "python",
      "name": "python3"
    },
    "language_info": {
      "name": "python",
      "version": "3.6.6",
      "mimetype": "text/x-python",
      "codemirror_mode": {
        "name": "ipython",
        "version": 3
      },
      "pygments_lexer": "ipython3",
      "nbconvert_exporter": "python",
      "file_extension": ".py"
    }
  },
  "nbformat": 4,
  "nbformat_minor": 1
}